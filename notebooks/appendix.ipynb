{
 "cells": [
  {
   "cell_type": "markdown",
   "metadata": {},
   "source": [
    "# Appendix"
   ]
  },
  {
   "cell_type": "markdown",
   "metadata": {},
   "source": [
    "## Global variables"
   ]
  },
  {
   "cell_type": "markdown",
   "metadata": {},
   "source": [
    "### Reassigning global variables"
   ]
  },
  {
   "cell_type": "code",
   "execution_count": null,
   "metadata": {},
   "outputs": [],
   "source": [
    "global_var = 'initial value'\n",
    "\n",
    "def reassign_global_var():\n",
    "  # this will not reassign the global variable but create a new one locally called global_var.\n",
    "  # the local variable goes away when the function ends, and has no effect on the global variable.\n",
    "  global_var = 'new value'\n",
    "\n",
    "reassign_global_var()\n",
    "global_var"
   ]
  },
  {
   "cell_type": "markdown",
   "metadata": {},
   "source": [
    "This will not reassign the global variable but create a new one locally called global_var. The local variable goes away when the function ends, and has no effect on the global variable.\n",
    "\n",
    "To reassign a global variable inside a function we have to declare the global variable before use it:"
   ]
  },
  {
   "cell_type": "code",
   "execution_count": null,
   "metadata": {},
   "outputs": [],
   "source": [
    "global_var = 'initial value'\n",
    "\n",
    "def reassign_global_var():\n",
    "  global global_var\n",
    "  global_var = 'new value'\n",
    "\n",
    "reassign_global_var()\n",
    "global_var"
   ]
  },
  {
   "cell_type": "markdown",
   "metadata": {},
   "source": [
    "The global statement tells the interpreter to use the global variable inside the function rather than creating a local one."
   ]
  }
 ],
 "metadata": {
  "kernelspec": {
   "display_name": "Python 3.8.9 64-bit",
   "language": "python",
   "name": "python3"
  },
  "language_info": {
   "codemirror_mode": {
    "name": "ipython",
    "version": 3
   },
   "file_extension": ".py",
   "mimetype": "text/x-python",
   "name": "python",
   "nbconvert_exporter": "python",
   "pygments_lexer": "ipython3",
   "version": "3.8.9"
  },
  "orig_nbformat": 4,
  "vscode": {
   "interpreter": {
    "hash": "31f2aee4e71d21fbe5cf8b01ff0e069b9275f58929596ceb00d14d90e3e16cd6"
   }
  }
 },
 "nbformat": 4,
 "nbformat_minor": 2
}
